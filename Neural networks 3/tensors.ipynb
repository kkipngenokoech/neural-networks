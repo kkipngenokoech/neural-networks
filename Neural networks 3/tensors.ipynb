{
 "cells": [
  {
   "cell_type": "markdown",
   "metadata": {},
   "source": [
    "# TENSORS\n",
    "\n",
    "## INITIALIZING TENSORS\n",
    "\n",
    "there are three ways we can initialize tensors:\n",
    "\n",
    "1. from data\n",
    "2. from a numpy array\n",
    "3. from another tensor\n",
    "\n",
    "### FROM DATA"
   ]
  },
  {
   "cell_type": "code",
   "execution_count": 3,
   "metadata": {},
   "outputs": [
    {
     "name": "stdout",
     "output_type": "stream",
     "text": [
      "tensor([1, 2])\n",
      "[1, 2]\n",
      "tensor([[1, 2],\n",
      "        [3, 4]])\n",
      "[[1, 2], [3, 4]]\n"
     ]
    }
   ],
   "source": [
    "import torch\n",
    "data = [1,2]\n",
    "tensor_data = torch.tensor(data)\n",
    "print(tensor_data)\n",
    "print(data)\n",
    "\n",
    "data = [[1,2],[3,4]]\n",
    "tensor_data = torch.tensor(data)\n",
    "print(tensor_data)\n",
    "print(data)"
   ]
  },
  {
   "cell_type": "markdown",
   "metadata": {},
   "source": [
    "### FROM A NUMPY ARRAY\n",
    "\n",
    "what is a numpy array:- A NumPy array is a fast, fixed-type, multidimensional container for numerical data, while a normal array (Python list) is a slower, general-purpose container that can hold any type of object."
   ]
  },
  {
   "cell_type": "code",
   "execution_count": 4,
   "metadata": {},
   "outputs": [
    {
     "name": "stdout",
     "output_type": "stream",
     "text": [
      "tensor([[1, 2],\n",
      "        [3, 4]])\n"
     ]
    }
   ],
   "source": [
    "import numpy as np\n",
    "np_array = np.array(data)\n",
    "tensor_data = torch.from_numpy(np_array)\n",
    "print(tensor_data)"
   ]
  },
  {
   "cell_type": "markdown",
   "metadata": {},
   "source": [
    "### FROM ANOTHER TENSOR\n"
   ]
  },
  {
   "cell_type": "code",
   "execution_count": 5,
   "metadata": {},
   "outputs": [
    {
     "name": "stdout",
     "output_type": "stream",
     "text": [
      "Ones Tensor: \n",
      " tensor([[1, 1],\n",
      "        [1, 1]]) \n",
      "\n",
      "Random Tensor: \n",
      " tensor([[0.4226, 0.7254],\n",
      "        [0.0384, 0.7140]]) \n",
      "\n"
     ]
    }
   ],
   "source": [
    "x_ones = torch.ones_like(tensor_data) # retains the properties of x_data\n",
    "print(f\"Ones Tensor: \\n {x_ones} \\n\")\n",
    "\n",
    "x_rand = torch.rand_like(tensor_data, dtype=torch.float) # overrides the datatype of x_data\n",
    "print(f\"Random Tensor: \\n {x_rand} \\n\")"
   ]
  }
 ],
 "metadata": {
  "kernelspec": {
   "display_name": "EnvNeuralNetworks",
   "language": "python",
   "name": "python3"
  },
  "language_info": {
   "codemirror_mode": {
    "name": "ipython",
    "version": 3
   },
   "file_extension": ".py",
   "mimetype": "text/x-python",
   "name": "python",
   "nbconvert_exporter": "python",
   "pygments_lexer": "ipython3",
   "version": "3.12.3"
  }
 },
 "nbformat": 4,
 "nbformat_minor": 2
}
