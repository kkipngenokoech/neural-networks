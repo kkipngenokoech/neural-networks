{
 "cells": [
  {
   "cell_type": "markdown",
   "metadata": {},
   "source": [
    "# TENSORS\n",
    "\n",
    "## INITIALIZING TENSORS\n",
    "\n",
    "there are three ways we can initialize tensors:\n",
    "\n",
    "1. from data\n",
    "2. from a numpy array\n",
    "3. from another tensor\n",
    "\n",
    "### FROM DATA"
   ]
  },
  {
   "cell_type": "code",
   "execution_count": 3,
   "metadata": {},
   "outputs": [
    {
     "name": "stdout",
     "output_type": "stream",
     "text": [
      "tensor([1, 2])\n",
      "[1, 2]\n",
      "tensor([[1, 2],\n",
      "        [3, 4]])\n",
      "[[1, 2], [3, 4]]\n"
     ]
    }
   ],
   "source": [
    "import torch\n",
    "data = [1,2]\n",
    "tensor_data = torch.tensor(data)\n",
    "print(tensor_data)\n",
    "print(data)\n",
    "\n",
    "data = [[1,2],[3,4]]\n",
    "tensor_data = torch.tensor(data)\n",
    "print(tensor_data)\n",
    "print(data)"
   ]
  },
  {
   "cell_type": "markdown",
   "metadata": {},
   "source": [
    "### FROM A NUMPY ARRAY\n",
    "\n",
    "what is a numpy array:- A NumPy array is a fast, fixed-type, multidimensional container for numerical data, while a normal array (Python list) is a slower, general-purpose container that can hold any type of object."
   ]
  },
  {
   "cell_type": "code",
   "execution_count": 4,
   "metadata": {},
   "outputs": [
    {
     "name": "stdout",
     "output_type": "stream",
     "text": [
      "tensor([[1, 2],\n",
      "        [3, 4]])\n"
     ]
    }
   ],
   "source": [
    "import numpy as np\n",
    "np_array = np.array(data)\n",
    "tensor_data = torch.from_numpy(np_array)\n",
    "print(tensor_data)"
   ]
  },
  {
   "cell_type": "markdown",
   "metadata": {},
   "source": [
    "### FROM ANOTHER TENSOR\n"
   ]
  },
  {
   "cell_type": "code",
   "execution_count": 5,
   "metadata": {},
   "outputs": [
    {
     "name": "stdout",
     "output_type": "stream",
     "text": [
      "Ones Tensor: \n",
      " tensor([[1, 1],\n",
      "        [1, 1]]) \n",
      "\n",
      "Random Tensor: \n",
      " tensor([[0.4226, 0.7254],\n",
      "        [0.0384, 0.7140]]) \n",
      "\n"
     ]
    }
   ],
   "source": [
    "x_ones = torch.ones_like(tensor_data) # retains the properties of x_data\n",
    "print(f\"Ones Tensor: \\n {x_ones} \\n\")\n",
    "\n",
    "x_rand = torch.rand_like(tensor_data, dtype=torch.float) # overrides the datatype of x_data\n",
    "print(f\"Random Tensor: \\n {x_rand} \\n\")"
   ]
  },
  {
   "cell_type": "markdown",
   "metadata": {},
   "source": [
    "### FROM A RANDOM VALUE"
   ]
  },
  {
   "cell_type": "code",
   "execution_count": 6,
   "metadata": {},
   "outputs": [
    {
     "name": "stdout",
     "output_type": "stream",
     "text": [
      "Random Tensor: \n",
      " tensor([[0.5767, 0.3843, 0.4461, 0.9649],\n",
      "        [0.4307, 0.2566, 0.9705, 0.7395],\n",
      "        [0.6076, 0.3879, 0.9592, 0.2914]], device='cuda:0') \n",
      "\n",
      "Random Tensor: \n",
      " tensor([[0.8086, 0.1832]]) \n",
      "\n",
      "Random Tensor: \n",
      " tensor([[[0.6382, 0.2010, 0.7416],\n",
      "         [0.9119, 0.8843, 0.4974],\n",
      "         [0.1246, 0.0517, 0.5983],\n",
      "         [0.3262, 0.5741, 0.0794],\n",
      "         [0.9030, 0.6713, 0.6933],\n",
      "         [0.3922, 0.9196, 0.5593],\n",
      "         [0.5430, 0.1647, 0.8529]],\n",
      "\n",
      "        [[0.9842, 0.2971, 0.7742],\n",
      "         [0.8143, 0.3724, 0.6948],\n",
      "         [0.7140, 0.3671, 0.9986],\n",
      "         [0.7937, 0.0432, 0.6015],\n",
      "         [0.0150, 0.7881, 0.6987],\n",
      "         [0.3225, 0.6765, 0.9888],\n",
      "         [0.5159, 0.5959, 0.3561]],\n",
      "\n",
      "        [[0.8868, 0.0678, 0.8880],\n",
      "         [0.1542, 0.4653, 0.3022],\n",
      "         [0.0168, 0.8672, 0.4076],\n",
      "         [0.6149, 0.7346, 0.1885],\n",
      "         [0.5481, 0.0497, 0.4272],\n",
      "         [0.0019, 0.2331, 0.5725],\n",
      "         [0.9382, 0.4021, 0.8688]],\n",
      "\n",
      "        [[0.8523, 0.6944, 0.5840],\n",
      "         [0.0389, 0.8871, 0.5713],\n",
      "         [0.4834, 0.6817, 0.6394],\n",
      "         [0.3908, 0.3118, 0.5083],\n",
      "         [0.5567, 0.0584, 0.8120],\n",
      "         [0.6957, 0.7486, 0.2844],\n",
      "         [0.5783, 0.1310, 0.6606]],\n",
      "\n",
      "        [[0.9043, 0.0908, 0.2959],\n",
      "         [0.3032, 0.8394, 0.7250],\n",
      "         [0.5004, 0.2807, 0.3690],\n",
      "         [0.4681, 0.3224, 0.4200],\n",
      "         [0.6662, 0.8460, 0.7765],\n",
      "         [0.4654, 0.5626, 0.5437],\n",
      "         [0.7270, 0.4024, 0.8381]],\n",
      "\n",
      "        [[0.5996, 0.7106, 0.6699],\n",
      "         [0.5602, 0.5276, 0.3421],\n",
      "         [0.0334, 0.2963, 0.4212],\n",
      "         [0.8598, 0.7417, 0.3632],\n",
      "         [0.4232, 0.9745, 0.8243],\n",
      "         [0.6988, 0.6152, 0.8670],\n",
      "         [0.0285, 0.4632, 0.6172]],\n",
      "\n",
      "        [[0.2536, 0.7212, 0.0549],\n",
      "         [0.9762, 0.8789, 0.1933],\n",
      "         [0.0750, 0.7980, 0.9230],\n",
      "         [0.7571, 0.8829, 0.8196],\n",
      "         [0.5324, 0.6696, 0.2081],\n",
      "         [0.0191, 0.6993, 0.6884],\n",
      "         [0.3191, 0.0154, 0.2653]]]) \n",
      "\n",
      "Shape of tensor: torch.Size([7, 7, 3])\n",
      "Datatype of tensor: torch.float32\n",
      "Device tensor is stored on: cpu\n"
     ]
    }
   ],
   "source": [
    "import torch\n",
    "tensor = torch.rand(3,4)\n",
    "if torch.cuda.is_available():\n",
    "    tensor = tensor.to('cuda')\n",
    "print(f\"Random Tensor: \\n {tensor} \\n\")\n",
    "tensor = torch.rand(1,2)\n",
    "print(f\"Random Tensor: \\n {tensor} \\n\")\n",
    "tensor = torch.rand(7, 7, 3)\n",
    "print(f\"Random Tensor: \\n {tensor} \\n\")\n",
    "print(f\"Shape of tensor: {tensor.shape}\")\n",
    "print(f\"Datatype of tensor: {tensor.dtype}\")\n",
    "print(f\"Device tensor is stored on: {tensor.device}\")"
   ]
  }
 ],
 "metadata": {
  "kernelspec": {
   "display_name": "EnvNeuralNetworks",
   "language": "python",
   "name": "python3"
  },
  "language_info": {
   "codemirror_mode": {
    "name": "ipython",
    "version": 3
   },
   "file_extension": ".py",
   "mimetype": "text/x-python",
   "name": "python",
   "nbconvert_exporter": "python",
   "pygments_lexer": "ipython3",
   "version": "3.12.3"
  }
 },
 "nbformat": 4,
 "nbformat_minor": 2
}
